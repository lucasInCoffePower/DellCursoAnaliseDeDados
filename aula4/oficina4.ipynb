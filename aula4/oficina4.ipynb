{
 "cells": [
  {
   "cell_type": "markdown",
   "metadata": {},
   "source": [
    "# Oficina 3 "
   ]
  },
  {
   "cell_type": "markdown",
   "metadata": {},
   "source": [
    "## 0.0 - Introdução e Objetivo"
   ]
  },
  {
   "cell_type": "markdown",
   "metadata": {},
   "source": [
    "Nessa oficina, iremos analisar visualmente um dataset de dados sobre imóveis.\n",
    "\n",
    "O objetivo é encontrar padrões usando gráficos de distribuição e responder algumas perguntas."
   ]
  },
  {
   "cell_type": "markdown",
   "metadata": {},
   "source": [
    "## 1.0 Importando bibliotecas e dataset"
   ]
  },
  {
   "cell_type": "markdown",
   "metadata": {},
   "source": [
    "### 1.1 - Importando bibliotecas"
   ]
  },
  {
   "cell_type": "code",
   "execution_count": 2,
   "metadata": {},
   "outputs": [],
   "source": [
    "import pandas as pd\n",
    "import matplotlib.pyplot as plt\n",
    "import seaborn as sns\n",
    "%matplotlib inline"
   ]
  },
  {
   "cell_type": "markdown",
   "metadata": {},
   "source": [
    "### 1.2 - Importando dataset"
   ]
  },
  {
   "cell_type": "code",
   "execution_count": 3,
   "metadata": {},
   "outputs": [
    {
     "data": {
      "text/html": [
       "<div>\n",
       "<style scoped>\n",
       "    .dataframe tbody tr th:only-of-type {\n",
       "        vertical-align: middle;\n",
       "    }\n",
       "\n",
       "    .dataframe tbody tr th {\n",
       "        vertical-align: top;\n",
       "    }\n",
       "\n",
       "    .dataframe thead th {\n",
       "        text-align: right;\n",
       "    }\n",
       "</style>\n",
       "<table border=\"1\" class=\"dataframe\">\n",
       "  <thead>\n",
       "    <tr style=\"text-align: right;\">\n",
       "      <th></th>\n",
       "      <th>city</th>\n",
       "      <th>area</th>\n",
       "      <th>rooms</th>\n",
       "      <th>bathroom</th>\n",
       "      <th>parking spaces</th>\n",
       "      <th>floor</th>\n",
       "      <th>animal</th>\n",
       "      <th>furniture</th>\n",
       "      <th>hoa (R$)</th>\n",
       "      <th>rent amount (R$)</th>\n",
       "      <th>property tax (R$)</th>\n",
       "      <th>fire insurance (R$)</th>\n",
       "      <th>total (R$)</th>\n",
       "    </tr>\n",
       "  </thead>\n",
       "  <tbody>\n",
       "    <tr>\n",
       "      <th>0</th>\n",
       "      <td>São Paulo</td>\n",
       "      <td>70</td>\n",
       "      <td>2</td>\n",
       "      <td>1</td>\n",
       "      <td>1</td>\n",
       "      <td>7</td>\n",
       "      <td>acept</td>\n",
       "      <td>furnished</td>\n",
       "      <td>2065</td>\n",
       "      <td>3300</td>\n",
       "      <td>211</td>\n",
       "      <td>42</td>\n",
       "      <td>5618</td>\n",
       "    </tr>\n",
       "    <tr>\n",
       "      <th>1</th>\n",
       "      <td>Porto Alegre</td>\n",
       "      <td>80</td>\n",
       "      <td>1</td>\n",
       "      <td>1</td>\n",
       "      <td>1</td>\n",
       "      <td>6</td>\n",
       "      <td>acept</td>\n",
       "      <td>not furnished</td>\n",
       "      <td>1000</td>\n",
       "      <td>2800</td>\n",
       "      <td>0</td>\n",
       "      <td>41</td>\n",
       "      <td>3841</td>\n",
       "    </tr>\n",
       "    <tr>\n",
       "      <th>2</th>\n",
       "      <td>Porto Alegre</td>\n",
       "      <td>51</td>\n",
       "      <td>2</td>\n",
       "      <td>1</td>\n",
       "      <td>0</td>\n",
       "      <td>2</td>\n",
       "      <td>acept</td>\n",
       "      <td>not furnished</td>\n",
       "      <td>270</td>\n",
       "      <td>1112</td>\n",
       "      <td>22</td>\n",
       "      <td>17</td>\n",
       "      <td>1421</td>\n",
       "    </tr>\n",
       "    <tr>\n",
       "      <th>3</th>\n",
       "      <td>São Paulo</td>\n",
       "      <td>25</td>\n",
       "      <td>1</td>\n",
       "      <td>1</td>\n",
       "      <td>0</td>\n",
       "      <td>1</td>\n",
       "      <td>not acept</td>\n",
       "      <td>not furnished</td>\n",
       "      <td>0</td>\n",
       "      <td>800</td>\n",
       "      <td>25</td>\n",
       "      <td>11</td>\n",
       "      <td>836</td>\n",
       "    </tr>\n",
       "    <tr>\n",
       "      <th>4</th>\n",
       "      <td>Rio de Janeiro</td>\n",
       "      <td>72</td>\n",
       "      <td>2</td>\n",
       "      <td>1</td>\n",
       "      <td>0</td>\n",
       "      <td>7</td>\n",
       "      <td>acept</td>\n",
       "      <td>not furnished</td>\n",
       "      <td>740</td>\n",
       "      <td>1900</td>\n",
       "      <td>85</td>\n",
       "      <td>25</td>\n",
       "      <td>2750</td>\n",
       "    </tr>\n",
       "  </tbody>\n",
       "</table>\n",
       "</div>"
      ],
      "text/plain": [
       "             city  area  rooms  bathroom  parking spaces floor     animal  \\\n",
       "0       São Paulo    70      2         1               1     7      acept   \n",
       "1    Porto Alegre    80      1         1               1     6      acept   \n",
       "2    Porto Alegre    51      2         1               0     2      acept   \n",
       "3       São Paulo    25      1         1               0     1  not acept   \n",
       "4  Rio de Janeiro    72      2         1               0     7      acept   \n",
       "\n",
       "       furniture  hoa (R$)  rent amount (R$)  property tax (R$)  \\\n",
       "0      furnished      2065              3300                211   \n",
       "1  not furnished      1000              2800                  0   \n",
       "2  not furnished       270              1112                 22   \n",
       "3  not furnished         0               800                 25   \n",
       "4  not furnished       740              1900                 85   \n",
       "\n",
       "   fire insurance (R$)  total (R$)  \n",
       "0                   42        5618  \n",
       "1                   41        3841  \n",
       "2                   17        1421  \n",
       "3                   11         836  \n",
       "4                   25        2750  "
      ]
     },
     "execution_count": 3,
     "metadata": {},
     "output_type": "execute_result"
    }
   ],
   "source": [
    "link_df = \"https://d11s0xq1vqg039.cloudfront.net/videos_conteudo/visual/micro05/oficina/arquivos/dadosoficina05.txt\"\n",
    "df = pd.read_csv(link_df)\n",
    "df.head()"
   ]
  },
  {
   "cell_type": "markdown",
   "metadata": {},
   "source": [
    "## 2.0 - Análises informativa e descritiva do dataset geral"
   ]
  },
  {
   "cell_type": "markdown",
   "metadata": {},
   "source": [
    "### 2.1-  Análise informativa"
   ]
  },
  {
   "cell_type": "code",
   "execution_count": 4,
   "metadata": {},
   "outputs": [
    {
     "name": "stdout",
     "output_type": "stream",
     "text": [
      "<class 'pandas.core.frame.DataFrame'>\n",
      "RangeIndex: 8204 entries, 0 to 8203\n",
      "Data columns (total 13 columns):\n",
      " #   Column               Non-Null Count  Dtype \n",
      "---  ------               --------------  ----- \n",
      " 0   city                 8204 non-null   object\n",
      " 1   area                 8204 non-null   int64 \n",
      " 2   rooms                8204 non-null   int64 \n",
      " 3   bathroom             8204 non-null   int64 \n",
      " 4   parking spaces       8204 non-null   int64 \n",
      " 5   floor                8204 non-null   object\n",
      " 6   animal               8204 non-null   object\n",
      " 7   furniture            8204 non-null   object\n",
      " 8   hoa (R$)             8204 non-null   int64 \n",
      " 9   rent amount (R$)     8204 non-null   int64 \n",
      " 10  property tax (R$)    8204 non-null   int64 \n",
      " 11  fire insurance (R$)  8204 non-null   int64 \n",
      " 12  total (R$)           8204 non-null   int64 \n",
      "dtypes: int64(9), object(4)\n",
      "memory usage: 833.3+ KB\n"
     ]
    }
   ],
   "source": [
    "df.info()"
   ]
  },
  {
   "cell_type": "markdown",
   "metadata": {},
   "source": [
    "### 2.2 -  Análise descritiva"
   ]
  },
  {
   "cell_type": "code",
   "execution_count": 5,
   "metadata": {},
   "outputs": [
    {
     "data": {
      "text/html": [
       "<div>\n",
       "<style scoped>\n",
       "    .dataframe tbody tr th:only-of-type {\n",
       "        vertical-align: middle;\n",
       "    }\n",
       "\n",
       "    .dataframe tbody tr th {\n",
       "        vertical-align: top;\n",
       "    }\n",
       "\n",
       "    .dataframe thead th {\n",
       "        text-align: right;\n",
       "    }\n",
       "</style>\n",
       "<table border=\"1\" class=\"dataframe\">\n",
       "  <thead>\n",
       "    <tr style=\"text-align: right;\">\n",
       "      <th></th>\n",
       "      <th>area</th>\n",
       "      <th>rooms</th>\n",
       "      <th>bathroom</th>\n",
       "      <th>parking spaces</th>\n",
       "      <th>hoa (R$)</th>\n",
       "      <th>rent amount (R$)</th>\n",
       "      <th>property tax (R$)</th>\n",
       "      <th>fire insurance (R$)</th>\n",
       "      <th>total (R$)</th>\n",
       "    </tr>\n",
       "  </thead>\n",
       "  <tbody>\n",
       "    <tr>\n",
       "      <th>count</th>\n",
       "      <td>8204.000000</td>\n",
       "      <td>8204.000000</td>\n",
       "      <td>8204.000000</td>\n",
       "      <td>8204.000000</td>\n",
       "      <td>8.204000e+03</td>\n",
       "      <td>8204.000000</td>\n",
       "      <td>8204.000000</td>\n",
       "      <td>8204.000000</td>\n",
       "      <td>8.204000e+03</td>\n",
       "    </tr>\n",
       "    <tr>\n",
       "      <th>mean</th>\n",
       "      <td>83.148586</td>\n",
       "      <td>2.116529</td>\n",
       "      <td>1.702828</td>\n",
       "      <td>1.063262</td>\n",
       "      <td>9.941054e+02</td>\n",
       "      <td>2741.332277</td>\n",
       "      <td>200.088981</td>\n",
       "      <td>36.510605</td>\n",
       "      <td>3.972246e+03</td>\n",
       "    </tr>\n",
       "    <tr>\n",
       "      <th>std</th>\n",
       "      <td>43.455041</td>\n",
       "      <td>0.919707</td>\n",
       "      <td>0.895319</td>\n",
       "      <td>0.991993</td>\n",
       "      <td>1.746632e+04</td>\n",
       "      <td>2145.713594</td>\n",
       "      <td>3485.198438</td>\n",
       "      <td>28.121018</td>\n",
       "      <td>1.801044e+04</td>\n",
       "    </tr>\n",
       "    <tr>\n",
       "      <th>min</th>\n",
       "      <td>11.000000</td>\n",
       "      <td>1.000000</td>\n",
       "      <td>1.000000</td>\n",
       "      <td>0.000000</td>\n",
       "      <td>0.000000e+00</td>\n",
       "      <td>450.000000</td>\n",
       "      <td>0.000000</td>\n",
       "      <td>3.000000</td>\n",
       "      <td>4.990000e+02</td>\n",
       "    </tr>\n",
       "    <tr>\n",
       "      <th>25%</th>\n",
       "      <td>50.000000</td>\n",
       "      <td>1.000000</td>\n",
       "      <td>1.000000</td>\n",
       "      <td>0.000000</td>\n",
       "      <td>2.700000e+02</td>\n",
       "      <td>1310.000000</td>\n",
       "      <td>25.000000</td>\n",
       "      <td>18.000000</td>\n",
       "      <td>1.803750e+03</td>\n",
       "    </tr>\n",
       "    <tr>\n",
       "      <th>50%</th>\n",
       "      <td>71.000000</td>\n",
       "      <td>2.000000</td>\n",
       "      <td>1.000000</td>\n",
       "      <td>1.000000</td>\n",
       "      <td>5.500000e+02</td>\n",
       "      <td>2100.000000</td>\n",
       "      <td>84.000000</td>\n",
       "      <td>28.000000</td>\n",
       "      <td>2.800000e+03</td>\n",
       "    </tr>\n",
       "    <tr>\n",
       "      <th>75%</th>\n",
       "      <td>110.000000</td>\n",
       "      <td>3.000000</td>\n",
       "      <td>2.000000</td>\n",
       "      <td>2.000000</td>\n",
       "      <td>1.000000e+03</td>\n",
       "      <td>3300.000000</td>\n",
       "      <td>206.000000</td>\n",
       "      <td>45.000000</td>\n",
       "      <td>4.547000e+03</td>\n",
       "    </tr>\n",
       "    <tr>\n",
       "      <th>max</th>\n",
       "      <td>199.000000</td>\n",
       "      <td>7.000000</td>\n",
       "      <td>7.000000</td>\n",
       "      <td>10.000000</td>\n",
       "      <td>1.117000e+06</td>\n",
       "      <td>24000.000000</td>\n",
       "      <td>313700.000000</td>\n",
       "      <td>305.000000</td>\n",
       "      <td>1.120000e+06</td>\n",
       "    </tr>\n",
       "  </tbody>\n",
       "</table>\n",
       "</div>"
      ],
      "text/plain": [
       "              area        rooms     bathroom  parking spaces      hoa (R$)  \\\n",
       "count  8204.000000  8204.000000  8204.000000     8204.000000  8.204000e+03   \n",
       "mean     83.148586     2.116529     1.702828        1.063262  9.941054e+02   \n",
       "std      43.455041     0.919707     0.895319        0.991993  1.746632e+04   \n",
       "min      11.000000     1.000000     1.000000        0.000000  0.000000e+00   \n",
       "25%      50.000000     1.000000     1.000000        0.000000  2.700000e+02   \n",
       "50%      71.000000     2.000000     1.000000        1.000000  5.500000e+02   \n",
       "75%     110.000000     3.000000     2.000000        2.000000  1.000000e+03   \n",
       "max     199.000000     7.000000     7.000000       10.000000  1.117000e+06   \n",
       "\n",
       "       rent amount (R$)  property tax (R$)  fire insurance (R$)    total (R$)  \n",
       "count       8204.000000        8204.000000          8204.000000  8.204000e+03  \n",
       "mean        2741.332277         200.088981            36.510605  3.972246e+03  \n",
       "std         2145.713594        3485.198438            28.121018  1.801044e+04  \n",
       "min          450.000000           0.000000             3.000000  4.990000e+02  \n",
       "25%         1310.000000          25.000000            18.000000  1.803750e+03  \n",
       "50%         2100.000000          84.000000            28.000000  2.800000e+03  \n",
       "75%         3300.000000         206.000000            45.000000  4.547000e+03  \n",
       "max        24000.000000      313700.000000           305.000000  1.120000e+06  "
      ]
     },
     "execution_count": 5,
     "metadata": {},
     "output_type": "execute_result"
    }
   ],
   "source": [
    "df.describe()"
   ]
  },
  {
   "cell_type": "markdown",
   "metadata": {},
   "source": [
    "## 3.0 - Análise Visual da distribuição de valores"
   ]
  },
  {
   "cell_type": "markdown",
   "metadata": {},
   "source": [
    "### 3.1 - Analisando distribuição dos valores de aluguel \"rent amount\""
   ]
  },
  {
   "cell_type": "code",
   "execution_count": 6,
   "metadata": {},
   "outputs": [
    {
     "data": {
      "text/plain": [
       "count     8204.000000\n",
       "mean      2741.332277\n",
       "std       2145.713594\n",
       "min        450.000000\n",
       "25%       1310.000000\n",
       "50%       2100.000000\n",
       "75%       3300.000000\n",
       "max      24000.000000\n",
       "Name: rent amount (R$), dtype: float64"
      ]
     },
     "execution_count": 6,
     "metadata": {},
     "output_type": "execute_result"
    }
   ],
   "source": [
    "df['rent amount (R$)'].describe()"
   ]
  },
  {
   "cell_type": "code",
   "execution_count": 78,
   "metadata": {},
   "outputs": [
    {
     "data": {
      "image/png": "[encoded data removed]",
      "text/plain": [
       "<Figure size 1080x576 with 1 Axes>"
      ]
     },
     "metadata": {},
     "output_type": "display_data"
    }
   ],
   "source": [
    "plt.figure(figsize=(15,8))\n",
    "plt.title('Frequência dos valores de aluguel por intervalo', fontsize=15, fontweight = 'bold')\n",
    "plt.xlabel('Aluguel(R$)', fontsize=13, fontweight='bold')\n",
    "plt.ylabel('Frequência Absoluta', fontsize=13, fontweight='bold')\n",
    "plt.tick_params(labelsize=13) # Modificando tamanho das etiquetas dos eixos\n",
    "plt.hist(df['rent amount (R$)'], bins=20, rwidth=0.99, color='red', alpha=0.5, edgecolor='black', histtype='bar')\n",
    "plt.show()"
   ]
  },
  {
   "cell_type": "markdown",
   "metadata": {},
   "source": [
    "**Análise**\n",
    "\n",
    "Podemos notar uma assimetria à direita no gráfico. Sendo assim a grande maioria dos valores de aluguel concentram do lado mais a esquerda no gráfico, o que significa que tendem a ser valores mais baixos nessa mostra.\n",
    "\n",
    "Observa-se que a grande maiora dos valores está localizado no intervalo duplo aproximado de 450,00 a  2500,00, com maior concentração no primeiro intervalo, de 450,00 a 1025,00, com frequência aproximada de 3000 valores, seguido pelo segundo intervalo, de 1025,00 até 2500,00, com frequência aproximada de 2500 valores.\n",
    "\n",
    "Isso significa que dos 8204 valores de aluguel da amostra, aproximadamente 5500 valores estão nos dois intervalos iniciais, corroborando com a observação inicial de que a grande maioria dos valores de aluguel são os mais baixos da amostra.\n",
    "\n",
    "\n",
    "\n"
   ]
  },
  {
   "cell_type": "markdown",
   "metadata": {},
   "source": [
    "### 3. 2 - Analisando distribuição de valores de seguro contra incêncio, 'fire insurance', dos imóveis"
   ]
  },
  {
   "cell_type": "code",
   "execution_count": 85,
   "metadata": {},
   "outputs": [
    {
     "data": {
      "text/html": [
       "<div>\n",
       "<style scoped>\n",
       "    .dataframe tbody tr th:only-of-type {\n",
       "        vertical-align: middle;\n",
       "    }\n",
       "\n",
       "    .dataframe tbody tr th {\n",
       "        vertical-align: top;\n",
       "    }\n",
       "\n",
       "    .dataframe thead th {\n",
       "        text-align: right;\n",
       "    }\n",
       "</style>\n",
       "<table border=\"1\" class=\"dataframe\">\n",
       "  <thead>\n",
       "    <tr style=\"text-align: right;\">\n",
       "      <th></th>\n",
       "      <th>city</th>\n",
       "      <th>area</th>\n",
       "      <th>rooms</th>\n",
       "      <th>bathroom</th>\n",
       "      <th>parking spaces</th>\n",
       "      <th>floor</th>\n",
       "      <th>animal</th>\n",
       "      <th>furniture</th>\n",
       "      <th>hoa (R$)</th>\n",
       "      <th>rent amount (R$)</th>\n",
       "      <th>property tax (R$)</th>\n",
       "      <th>fire insurance (R$)</th>\n",
       "      <th>total (R$)</th>\n",
       "    </tr>\n",
       "  </thead>\n",
       "  <tbody>\n",
       "    <tr>\n",
       "      <th>0</th>\n",
       "      <td>São Paulo</td>\n",
       "      <td>70</td>\n",
       "      <td>2</td>\n",
       "      <td>1</td>\n",
       "      <td>1</td>\n",
       "      <td>7</td>\n",
       "      <td>acept</td>\n",
       "      <td>furnished</td>\n",
       "      <td>2065</td>\n",
       "      <td>3300</td>\n",
       "      <td>211</td>\n",
       "      <td>42</td>\n",
       "      <td>5618</td>\n",
       "    </tr>\n",
       "    <tr>\n",
       "      <th>1</th>\n",
       "      <td>Porto Alegre</td>\n",
       "      <td>80</td>\n",
       "      <td>1</td>\n",
       "      <td>1</td>\n",
       "      <td>1</td>\n",
       "      <td>6</td>\n",
       "      <td>acept</td>\n",
       "      <td>not furnished</td>\n",
       "      <td>1000</td>\n",
       "      <td>2800</td>\n",
       "      <td>0</td>\n",
       "      <td>41</td>\n",
       "      <td>3841</td>\n",
       "    </tr>\n",
       "    <tr>\n",
       "      <th>2</th>\n",
       "      <td>Porto Alegre</td>\n",
       "      <td>51</td>\n",
       "      <td>2</td>\n",
       "      <td>1</td>\n",
       "      <td>0</td>\n",
       "      <td>2</td>\n",
       "      <td>acept</td>\n",
       "      <td>not furnished</td>\n",
       "      <td>270</td>\n",
       "      <td>1112</td>\n",
       "      <td>22</td>\n",
       "      <td>17</td>\n",
       "      <td>1421</td>\n",
       "    </tr>\n",
       "    <tr>\n",
       "      <th>3</th>\n",
       "      <td>São Paulo</td>\n",
       "      <td>25</td>\n",
       "      <td>1</td>\n",
       "      <td>1</td>\n",
       "      <td>0</td>\n",
       "      <td>1</td>\n",
       "      <td>not acept</td>\n",
       "      <td>not furnished</td>\n",
       "      <td>0</td>\n",
       "      <td>800</td>\n",
       "      <td>25</td>\n",
       "      <td>11</td>\n",
       "      <td>836</td>\n",
       "    </tr>\n",
       "    <tr>\n",
       "      <th>4</th>\n",
       "      <td>Rio de Janeiro</td>\n",
       "      <td>72</td>\n",
       "      <td>2</td>\n",
       "      <td>1</td>\n",
       "      <td>0</td>\n",
       "      <td>7</td>\n",
       "      <td>acept</td>\n",
       "      <td>not furnished</td>\n",
       "      <td>740</td>\n",
       "      <td>1900</td>\n",
       "      <td>85</td>\n",
       "      <td>25</td>\n",
       "      <td>2750</td>\n",
       "    </tr>\n",
       "  </tbody>\n",
       "</table>\n",
       "</div>"
      ],
      "text/plain": [
       "             city  area  rooms  bathroom  parking spaces floor     animal  \\\n",
       "0       São Paulo    70      2         1               1     7      acept   \n",
       "1    Porto Alegre    80      1         1               1     6      acept   \n",
       "2    Porto Alegre    51      2         1               0     2      acept   \n",
       "3       São Paulo    25      1         1               0     1  not acept   \n",
       "4  Rio de Janeiro    72      2         1               0     7      acept   \n",
       "\n",
       "       furniture  hoa (R$)  rent amount (R$)  property tax (R$)  \\\n",
       "0      furnished      2065              3300                211   \n",
       "1  not furnished      1000              2800                  0   \n",
       "2  not furnished       270              1112                 22   \n",
       "3  not furnished         0               800                 25   \n",
       "4  not furnished       740              1900                 85   \n",
       "\n",
       "   fire insurance (R$)  total (R$)  \n",
       "0                   42        5618  \n",
       "1                   41        3841  \n",
       "2                   17        1421  \n",
       "3                   11         836  \n",
       "4                   25        2750  "
      ]
     },
     "execution_count": 85,
     "metadata": {},
     "output_type": "execute_result"
    }
   ],
   "source": [
    "df.head()"
   ]
  },
  {
   "cell_type": "code",
   "execution_count": 80,
   "metadata": {},
   "outputs": [
    {
     "data": {
      "text/plain": [
       "count    8204.000000\n",
       "mean       36.510605\n",
       "std        28.121018\n",
       "min         3.000000\n",
       "25%        18.000000\n",
       "50%        28.000000\n",
       "75%        45.000000\n",
       "max       305.000000\n",
       "Name: fire insurance (R$), dtype: float64"
      ]
     },
     "execution_count": 80,
     "metadata": {},
     "output_type": "execute_result"
    }
   ],
   "source": [
    "df['fire insurance (R$)'].describe()"
   ]
  },
  {
   "cell_type": "code",
   "execution_count": 91,
   "metadata": {},
   "outputs": [
    {
     "data": {
      "image/png": "[encoded data removed]",
      "text/plain": [
       "<Figure size 1080x576 with 1 Axes>"
      ]
     },
     "metadata": {},
     "output_type": "display_data"
    }
   ],
   "source": [
    "plt.figure(figsize=(15,8))\n",
    "sns.distplot(df['fire insurance (R$)'], bins=20, color='blue')\n",
    "sns.kdeplot(df['fire insurance (R$)'], shade=True, color='red')\n",
    "plt.title('Distribuição dos valores de seguro contra incêndio', fontsize=15, fontweight = 'bold')\n",
    "plt.xlabel('Seguro contra incêndio (R$)', fontsize=13, fontweight='bold')\n",
    "plt.ylabel('Chance de ocorrência', fontsize=13, fontweight='bold')\n",
    "plt.legend(labels=[\"Seguro contra Incêndio\"], fontsize='large') # Modificando legenda\n",
    "plt.tick_params(labelsize=13) \n",
    "plt.show()"
   ]
  },
  {
   "cell_type": "markdown",
   "metadata": {},
   "source": [
    "**Análise**\n",
    "\n",
    "Podemos observar que os valores mais incomuns se localizam na parte mais a direita da cauda do histograma, onde também a probabilidade de ocorrência é mínima. Eles estão no intervalo multiplo de 150 a 305, sendo que a probabilidade de ocorrência e a frequência deles se torna muito baixa a partir de 150.\n",
    "\n",
    "Por outro lado, os valores mais comuns estão a esquerda do gráfico, tendo uma maior probabilidade de ocorrência para seguros no valor entre 3 e 50 reais.\n",
    "\n",
    "Isso significa que os imóveis nessa amostra tendem a ter valores mais baratos de seguro contra incêndio, se concentrando com valores de 3 a 50 reais. E os valores mais caros também são os mais raros, estando entre 150 a 304 reais."
   ]
  }
 ],
 "metadata": {
  "kernelspec": {
   "display_name": "Python 3",
   "language": "python",
   "name": "python3"
  },
  "language_info": {
   "codemirror_mode": {
    "name": "ipython",
    "version": 3
   },
   "file_extension": ".py",
   "mimetype": "text/x-python",
   "name": "python",
   "nbconvert_exporter": "python",
   "pygments_lexer": "ipython3",
   "version": "3.8.3"
  }
 },
 "nbformat": 4,
 "nbformat_minor": 4
}
