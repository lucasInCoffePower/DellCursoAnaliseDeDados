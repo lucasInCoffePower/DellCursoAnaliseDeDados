{
 "cells": [
  {
   "cell_type": "markdown",
   "metadata": {},
   "source": [
    "# Aula 4"
   ]
  },
  {
   "cell_type": "markdown",
   "metadata": {},
   "source": [
    "**Links para estudo**\n",
    "- [Documentação matplotlib para método hist](https://matplotlib.org/3.2.1/api/_as_gen/matplotlib.pyplot.hist.html)\n",
    "- [Documentação seaborn para distplot](https://seaborn.pydata.org/generated/seaborn.distplot.html#seaborn.distplot)\n",
    "- [Documentação seaborn para kdeplot](https://seaborn.pydata.org/generated/seaborn.kdeplot.html#seaborn.kdeplot)\n",
    "- [Modificando legenda com matplotlib](https://www.delftstack.com/pt/howto/seaborn/legend-seaborn-plot/)"
   ]
  },
  {
   "cell_type": "markdown",
   "metadata": {},
   "source": [
    "## Histogramas com matplotlib"
   ]
  },
  {
   "cell_type": "markdown",
   "metadata": {},
   "source": [
    "### Importando bibliotecas e arquivo"
   ]
  },
  {
   "cell_type": "code",
   "execution_count": 1,
   "metadata": {},
   "outputs": [],
   "source": [
    "import pandas as pd\n",
    "import matplotlib.pyplot as plt\n",
    "import seaborn as sns\n",
    "%matplotlib inline"
   ]
  },
  {
   "cell_type": "markdown",
   "metadata": {},
   "source": [
    "**Iremos trabalhar com um conjunto de dados imobiliários com informações de 8204 casas. Os dados são estruturados no padrão csv**\n",
    "- [dataset](https://leadfortaleza.com.br/ead2pcd/conteudo/tmp/myopenolat_1_103418176718354/aula/arquivos/dados.txt)"
   ]
  },
  {
   "cell_type": "markdown",
   "metadata": {},
   "source": [
    "*Obtendo os dados através do link `df = pd.read_csv(\"link\")`.*"
   ]
  },
  {
   "cell_type": "code",
   "execution_count": 2,
   "metadata": {},
   "outputs": [
    {
     "data": {
      "text/html": [
       "<div>\n",
       "<style scoped>\n",
       "    .dataframe tbody tr th:only-of-type {\n",
       "        vertical-align: middle;\n",
       "    }\n",
       "\n",
       "    .dataframe tbody tr th {\n",
       "        vertical-align: top;\n",
       "    }\n",
       "\n",
       "    .dataframe thead th {\n",
       "        text-align: right;\n",
       "    }\n",
       "</style>\n",
       "<table border=\"1\" class=\"dataframe\">\n",
       "  <thead>\n",
       "    <tr style=\"text-align: right;\">\n",
       "      <th></th>\n",
       "      <th>city</th>\n",
       "      <th>area</th>\n",
       "      <th>rooms</th>\n",
       "      <th>bathroom</th>\n",
       "      <th>parking spaces</th>\n",
       "      <th>floor</th>\n",
       "      <th>animal</th>\n",
       "      <th>furniture</th>\n",
       "      <th>hoa (R$)</th>\n",
       "      <th>rent amount (R$)</th>\n",
       "      <th>property tax (R$)</th>\n",
       "      <th>fire insurance (R$)</th>\n",
       "      <th>total (R$)</th>\n",
       "    </tr>\n",
       "  </thead>\n",
       "  <tbody>\n",
       "    <tr>\n",
       "      <th>0</th>\n",
       "      <td>São Paulo</td>\n",
       "      <td>70</td>\n",
       "      <td>2</td>\n",
       "      <td>1</td>\n",
       "      <td>1</td>\n",
       "      <td>7</td>\n",
       "      <td>acept</td>\n",
       "      <td>furnished</td>\n",
       "      <td>2065</td>\n",
       "      <td>3300</td>\n",
       "      <td>211</td>\n",
       "      <td>42</td>\n",
       "      <td>5618</td>\n",
       "    </tr>\n",
       "    <tr>\n",
       "      <th>1</th>\n",
       "      <td>Porto Alegre</td>\n",
       "      <td>80</td>\n",
       "      <td>1</td>\n",
       "      <td>1</td>\n",
       "      <td>1</td>\n",
       "      <td>6</td>\n",
       "      <td>acept</td>\n",
       "      <td>not furnished</td>\n",
       "      <td>1000</td>\n",
       "      <td>2800</td>\n",
       "      <td>0</td>\n",
       "      <td>41</td>\n",
       "      <td>3841</td>\n",
       "    </tr>\n",
       "    <tr>\n",
       "      <th>2</th>\n",
       "      <td>Porto Alegre</td>\n",
       "      <td>51</td>\n",
       "      <td>2</td>\n",
       "      <td>1</td>\n",
       "      <td>0</td>\n",
       "      <td>2</td>\n",
       "      <td>acept</td>\n",
       "      <td>not furnished</td>\n",
       "      <td>270</td>\n",
       "      <td>1112</td>\n",
       "      <td>22</td>\n",
       "      <td>17</td>\n",
       "      <td>1421</td>\n",
       "    </tr>\n",
       "    <tr>\n",
       "      <th>3</th>\n",
       "      <td>São Paulo</td>\n",
       "      <td>25</td>\n",
       "      <td>1</td>\n",
       "      <td>1</td>\n",
       "      <td>0</td>\n",
       "      <td>1</td>\n",
       "      <td>not acept</td>\n",
       "      <td>not furnished</td>\n",
       "      <td>0</td>\n",
       "      <td>800</td>\n",
       "      <td>25</td>\n",
       "      <td>11</td>\n",
       "      <td>836</td>\n",
       "    </tr>\n",
       "    <tr>\n",
       "      <th>4</th>\n",
       "      <td>Rio de Janeiro</td>\n",
       "      <td>72</td>\n",
       "      <td>2</td>\n",
       "      <td>1</td>\n",
       "      <td>0</td>\n",
       "      <td>7</td>\n",
       "      <td>acept</td>\n",
       "      <td>not furnished</td>\n",
       "      <td>740</td>\n",
       "      <td>1900</td>\n",
       "      <td>85</td>\n",
       "      <td>25</td>\n",
       "      <td>2750</td>\n",
       "    </tr>\n",
       "  </tbody>\n",
       "</table>\n",
       "</div>"
      ],
      "text/plain": [
       "             city  area  rooms  bathroom  parking spaces floor     animal  \\\n",
       "0       São Paulo    70      2         1               1     7      acept   \n",
       "1    Porto Alegre    80      1         1               1     6      acept   \n",
       "2    Porto Alegre    51      2         1               0     2      acept   \n",
       "3       São Paulo    25      1         1               0     1  not acept   \n",
       "4  Rio de Janeiro    72      2         1               0     7      acept   \n",
       "\n",
       "       furniture  hoa (R$)  rent amount (R$)  property tax (R$)  \\\n",
       "0      furnished      2065              3300                211   \n",
       "1  not furnished      1000              2800                  0   \n",
       "2  not furnished       270              1112                 22   \n",
       "3  not furnished         0               800                 25   \n",
       "4  not furnished       740              1900                 85   \n",
       "\n",
       "   fire insurance (R$)  total (R$)  \n",
       "0                   42        5618  \n",
       "1                   41        3841  \n",
       "2                   17        1421  \n",
       "3                   11         836  \n",
       "4                   25        2750  "
      ]
     },
     "execution_count": 2,
     "metadata": {},
     "output_type": "execute_result"
    }
   ],
   "source": [
    "# Obtendo os dados através do link\n",
    "link_dados = \"https://leadfortaleza.com.br/ead2pcd/conteudo/tmp/myopenolat_1_103418176718354/aula/arquivos/dados.txt\"\n",
    "df = pd.read_csv(link_dados)\n",
    "df.head()"
   ]
  },
  {
   "cell_type": "markdown",
   "metadata": {},
   "source": [
    "*Obtendo o link através de arquivo local `df = pd.read_csv(\"endereço_do_arquivo\")*"
   ]
  },
  {
   "cell_type": "code",
   "execution_count": 3,
   "metadata": {},
   "outputs": [
    {
     "data": {
      "text/html": [
       "<div>\n",
       "<style scoped>\n",
       "    .dataframe tbody tr th:only-of-type {\n",
       "        vertical-align: middle;\n",
       "    }\n",
       "\n",
       "    .dataframe tbody tr th {\n",
       "        vertical-align: top;\n",
       "    }\n",
       "\n",
       "    .dataframe thead th {\n",
       "        text-align: right;\n",
       "    }\n",
       "</style>\n",
       "<table border=\"1\" class=\"dataframe\">\n",
       "  <thead>\n",
       "    <tr style=\"text-align: right;\">\n",
       "      <th></th>\n",
       "      <th>city</th>\n",
       "      <th>area</th>\n",
       "      <th>rooms</th>\n",
       "      <th>bathroom</th>\n",
       "      <th>parking spaces</th>\n",
       "      <th>floor</th>\n",
       "      <th>animal</th>\n",
       "      <th>furniture</th>\n",
       "      <th>hoa (R$)</th>\n",
       "      <th>rent amount (R$)</th>\n",
       "      <th>property tax (R$)</th>\n",
       "      <th>fire insurance (R$)</th>\n",
       "      <th>total (R$)</th>\n",
       "    </tr>\n",
       "  </thead>\n",
       "  <tbody>\n",
       "    <tr>\n",
       "      <th>0</th>\n",
       "      <td>São Paulo</td>\n",
       "      <td>70</td>\n",
       "      <td>2</td>\n",
       "      <td>1</td>\n",
       "      <td>1</td>\n",
       "      <td>7</td>\n",
       "      <td>acept</td>\n",
       "      <td>furnished</td>\n",
       "      <td>2065</td>\n",
       "      <td>3300</td>\n",
       "      <td>211</td>\n",
       "      <td>42</td>\n",
       "      <td>5618</td>\n",
       "    </tr>\n",
       "    <tr>\n",
       "      <th>1</th>\n",
       "      <td>Porto Alegre</td>\n",
       "      <td>80</td>\n",
       "      <td>1</td>\n",
       "      <td>1</td>\n",
       "      <td>1</td>\n",
       "      <td>6</td>\n",
       "      <td>acept</td>\n",
       "      <td>not furnished</td>\n",
       "      <td>1000</td>\n",
       "      <td>2800</td>\n",
       "      <td>0</td>\n",
       "      <td>41</td>\n",
       "      <td>3841</td>\n",
       "    </tr>\n",
       "    <tr>\n",
       "      <th>2</th>\n",
       "      <td>Porto Alegre</td>\n",
       "      <td>51</td>\n",
       "      <td>2</td>\n",
       "      <td>1</td>\n",
       "      <td>0</td>\n",
       "      <td>2</td>\n",
       "      <td>acept</td>\n",
       "      <td>not furnished</td>\n",
       "      <td>270</td>\n",
       "      <td>1112</td>\n",
       "      <td>22</td>\n",
       "      <td>17</td>\n",
       "      <td>1421</td>\n",
       "    </tr>\n",
       "    <tr>\n",
       "      <th>3</th>\n",
       "      <td>São Paulo</td>\n",
       "      <td>25</td>\n",
       "      <td>1</td>\n",
       "      <td>1</td>\n",
       "      <td>0</td>\n",
       "      <td>1</td>\n",
       "      <td>not acept</td>\n",
       "      <td>not furnished</td>\n",
       "      <td>0</td>\n",
       "      <td>800</td>\n",
       "      <td>25</td>\n",
       "      <td>11</td>\n",
       "      <td>836</td>\n",
       "    </tr>\n",
       "    <tr>\n",
       "      <th>4</th>\n",
       "      <td>Rio de Janeiro</td>\n",
       "      <td>72</td>\n",
       "      <td>2</td>\n",
       "      <td>1</td>\n",
       "      <td>0</td>\n",
       "      <td>7</td>\n",
       "      <td>acept</td>\n",
       "      <td>not furnished</td>\n",
       "      <td>740</td>\n",
       "      <td>1900</td>\n",
       "      <td>85</td>\n",
       "      <td>25</td>\n",
       "      <td>2750</td>\n",
       "    </tr>\n",
       "  </tbody>\n",
       "</table>\n",
       "</div>"
      ],
      "text/plain": [
       "             city  area  rooms  bathroom  parking spaces floor     animal  \\\n",
       "0       São Paulo    70      2         1               1     7      acept   \n",
       "1    Porto Alegre    80      1         1               1     6      acept   \n",
       "2    Porto Alegre    51      2         1               0     2      acept   \n",
       "3       São Paulo    25      1         1               0     1  not acept   \n",
       "4  Rio de Janeiro    72      2         1               0     7      acept   \n",
       "\n",
       "       furniture  hoa (R$)  rent amount (R$)  property tax (R$)  \\\n",
       "0      furnished      2065              3300                211   \n",
       "1  not furnished      1000              2800                  0   \n",
       "2  not furnished       270              1112                 22   \n",
       "3  not furnished         0               800                 25   \n",
       "4  not furnished       740              1900                 85   \n",
       "\n",
       "   fire insurance (R$)  total (R$)  \n",
       "0                   42        5618  \n",
       "1                   41        3841  \n",
       "2                   17        1421  \n",
       "3                   11         836  \n",
       "4                   25        2750  "
      ]
     },
     "execution_count": 3,
     "metadata": {},
     "output_type": "execute_result"
    }
   ],
   "source": [
    "# Como o arquivo está na mesma pasta, só precisamos informar o nome e a extensão do arquivo\n",
    "end_arquivo = \"dados.txt\"\n",
    "df = pd.read_csv(end_arquivo)\n",
    "df.head()\n"
   ]
  },
  {
   "cell_type": "markdown",
   "metadata": {},
   "source": [
    "## Análise dos dados"
   ]
  },
  {
   "cell_type": "code",
   "execution_count": 4,
   "metadata": {},
   "outputs": [
    {
     "name": "stdout",
     "output_type": "stream",
     "text": [
      "<class 'pandas.core.frame.DataFrame'>\n",
      "RangeIndex: 8204 entries, 0 to 8203\n",
      "Data columns (total 13 columns):\n",
      " #   Column               Non-Null Count  Dtype \n",
      "---  ------               --------------  ----- \n",
      " 0   city                 8204 non-null   object\n",
      " 1   area                 8204 non-null   int64 \n",
      " 2   rooms                8204 non-null   int64 \n",
      " 3   bathroom             8204 non-null   int64 \n",
      " 4   parking spaces       8204 non-null   int64 \n",
      " 5   floor                8204 non-null   object\n",
      " 6   animal               8204 non-null   object\n",
      " 7   furniture            8204 non-null   object\n",
      " 8   hoa (R$)             8204 non-null   int64 \n",
      " 9   rent amount (R$)     8204 non-null   int64 \n",
      " 10  property tax (R$)    8204 non-null   int64 \n",
      " 11  fire insurance (R$)  8204 non-null   int64 \n",
      " 12  total (R$)           8204 non-null   int64 \n",
      "dtypes: int64(9), object(4)\n",
      "memory usage: 833.3+ KB\n"
     ]
    }
   ],
   "source": [
    "df.info()"
   ]
  },
  {
   "cell_type": "markdown",
   "metadata": {},
   "source": [
    "**Análise informativa**\n",
    "- 13 features\n",
    "    - 9 tipos int64\n",
    "    - 4 tipos Object\n",
    "- 8204 linhas\n",
    "    - Não há valores nulos\n",
    "- Memória usada\n",
    "    - 833.3 KB"
   ]
  },
  {
   "cell_type": "code",
   "execution_count": 5,
   "metadata": {},
   "outputs": [
    {
     "data": {
      "text/html": [
       "<div>\n",
       "<style scoped>\n",
       "    .dataframe tbody tr th:only-of-type {\n",
       "        vertical-align: middle;\n",
       "    }\n",
       "\n",
       "    .dataframe tbody tr th {\n",
       "        vertical-align: top;\n",
       "    }\n",
       "\n",
       "    .dataframe thead th {\n",
       "        text-align: right;\n",
       "    }\n",
       "</style>\n",
       "<table border=\"1\" class=\"dataframe\">\n",
       "  <thead>\n",
       "    <tr style=\"text-align: right;\">\n",
       "      <th></th>\n",
       "      <th>area</th>\n",
       "      <th>rooms</th>\n",
       "      <th>bathroom</th>\n",
       "      <th>parking spaces</th>\n",
       "      <th>hoa (R$)</th>\n",
       "      <th>rent amount (R$)</th>\n",
       "      <th>property tax (R$)</th>\n",
       "      <th>fire insurance (R$)</th>\n",
       "      <th>total (R$)</th>\n",
       "    </tr>\n",
       "  </thead>\n",
       "  <tbody>\n",
       "    <tr>\n",
       "      <th>count</th>\n",
       "      <td>8204.000000</td>\n",
       "      <td>8204.000000</td>\n",
       "      <td>8204.000000</td>\n",
       "      <td>8204.000000</td>\n",
       "      <td>8.204000e+03</td>\n",
       "      <td>8204.000000</td>\n",
       "      <td>8204.000000</td>\n",
       "      <td>8204.000000</td>\n",
       "      <td>8.204000e+03</td>\n",
       "    </tr>\n",
       "    <tr>\n",
       "      <th>mean</th>\n",
       "      <td>83.148586</td>\n",
       "      <td>2.116529</td>\n",
       "      <td>1.702828</td>\n",
       "      <td>1.063262</td>\n",
       "      <td>9.941054e+02</td>\n",
       "      <td>2741.332277</td>\n",
       "      <td>200.088981</td>\n",
       "      <td>36.510605</td>\n",
       "      <td>3.972246e+03</td>\n",
       "    </tr>\n",
       "    <tr>\n",
       "      <th>std</th>\n",
       "      <td>43.455041</td>\n",
       "      <td>0.919707</td>\n",
       "      <td>0.895319</td>\n",
       "      <td>0.991993</td>\n",
       "      <td>1.746632e+04</td>\n",
       "      <td>2145.713594</td>\n",
       "      <td>3485.198438</td>\n",
       "      <td>28.121018</td>\n",
       "      <td>1.801044e+04</td>\n",
       "    </tr>\n",
       "    <tr>\n",
       "      <th>min</th>\n",
       "      <td>11.000000</td>\n",
       "      <td>1.000000</td>\n",
       "      <td>1.000000</td>\n",
       "      <td>0.000000</td>\n",
       "      <td>0.000000e+00</td>\n",
       "      <td>450.000000</td>\n",
       "      <td>0.000000</td>\n",
       "      <td>3.000000</td>\n",
       "      <td>4.990000e+02</td>\n",
       "    </tr>\n",
       "    <tr>\n",
       "      <th>25%</th>\n",
       "      <td>50.000000</td>\n",
       "      <td>1.000000</td>\n",
       "      <td>1.000000</td>\n",
       "      <td>0.000000</td>\n",
       "      <td>2.700000e+02</td>\n",
       "      <td>1310.000000</td>\n",
       "      <td>25.000000</td>\n",
       "      <td>18.000000</td>\n",
       "      <td>1.803750e+03</td>\n",
       "    </tr>\n",
       "    <tr>\n",
       "      <th>50%</th>\n",
       "      <td>71.000000</td>\n",
       "      <td>2.000000</td>\n",
       "      <td>1.000000</td>\n",
       "      <td>1.000000</td>\n",
       "      <td>5.500000e+02</td>\n",
       "      <td>2100.000000</td>\n",
       "      <td>84.000000</td>\n",
       "      <td>28.000000</td>\n",
       "      <td>2.800000e+03</td>\n",
       "    </tr>\n",
       "    <tr>\n",
       "      <th>75%</th>\n",
       "      <td>110.000000</td>\n",
       "      <td>3.000000</td>\n",
       "      <td>2.000000</td>\n",
       "      <td>2.000000</td>\n",
       "      <td>1.000000e+03</td>\n",
       "      <td>3300.000000</td>\n",
       "      <td>206.000000</td>\n",
       "      <td>45.000000</td>\n",
       "      <td>4.547000e+03</td>\n",
       "    </tr>\n",
       "    <tr>\n",
       "      <th>max</th>\n",
       "      <td>199.000000</td>\n",
       "      <td>7.000000</td>\n",
       "      <td>7.000000</td>\n",
       "      <td>10.000000</td>\n",
       "      <td>1.117000e+06</td>\n",
       "      <td>24000.000000</td>\n",
       "      <td>313700.000000</td>\n",
       "      <td>305.000000</td>\n",
       "      <td>1.120000e+06</td>\n",
       "    </tr>\n",
       "  </tbody>\n",
       "</table>\n",
       "</div>"
      ],
      "text/plain": [
       "              area        rooms     bathroom  parking spaces      hoa (R$)  \\\n",
       "count  8204.000000  8204.000000  8204.000000     8204.000000  8.204000e+03   \n",
       "mean     83.148586     2.116529     1.702828        1.063262  9.941054e+02   \n",
       "std      43.455041     0.919707     0.895319        0.991993  1.746632e+04   \n",
       "min      11.000000     1.000000     1.000000        0.000000  0.000000e+00   \n",
       "25%      50.000000     1.000000     1.000000        0.000000  2.700000e+02   \n",
       "50%      71.000000     2.000000     1.000000        1.000000  5.500000e+02   \n",
       "75%     110.000000     3.000000     2.000000        2.000000  1.000000e+03   \n",
       "max     199.000000     7.000000     7.000000       10.000000  1.117000e+06   \n",
       "\n",
       "       rent amount (R$)  property tax (R$)  fire insurance (R$)    total (R$)  \n",
       "count       8204.000000        8204.000000          8204.000000  8.204000e+03  \n",
       "mean        2741.332277         200.088981            36.510605  3.972246e+03  \n",
       "std         2145.713594        3485.198438            28.121018  1.801044e+04  \n",
       "min          450.000000           0.000000             3.000000  4.990000e+02  \n",
       "25%         1310.000000          25.000000            18.000000  1.803750e+03  \n",
       "50%         2100.000000          84.000000            28.000000  2.800000e+03  \n",
       "75%         3300.000000         206.000000            45.000000  4.547000e+03  \n",
       "max        24000.000000      313700.000000           305.000000  1.120000e+06  "
      ]
     },
     "execution_count": 5,
     "metadata": {},
     "output_type": "execute_result"
    }
   ],
   "source": [
    "df.describe()"
   ]
  },
  {
   "cell_type": "markdown",
   "metadata": {},
   "source": [
    "**Vamos analisar a distribuição da área dos imóveis, sendo esse um atributo quantitativo.**"
   ]
  },
  {
   "cell_type": "markdown",
   "metadata": {},
   "source": [
    "*Vamos o usar o método `.describe()` para retornar medidas estatísticas relacionada aos valores de área dos dados*"
   ]
  },
  {
   "cell_type": "code",
   "execution_count": 8,
   "metadata": {},
   "outputs": [
    {
     "data": {
      "text/plain": [
       "count    8204.000000\n",
       "mean       83.148586\n",
       "std        43.455041\n",
       "min        11.000000\n",
       "25%        50.000000\n",
       "50%        71.000000\n",
       "75%       110.000000\n",
       "max       199.000000\n",
       "Name: area, dtype: float64"
      ]
     },
     "execution_count": 8,
     "metadata": {},
     "output_type": "execute_result"
    }
   ],
   "source": [
    "df['area'].describe()"
   ]
  },
  {
   "cell_type": "markdown",
   "metadata": {},
   "source": [
    "**Análise da distribuição dos dados de área**\n",
    "- Temos uma contagem de 8204 dados de área relativas as 8204 amostras das 8204 linhas do dataset\n",
    "- A área média dos imóveis é de 83.148586 m² com um desvio padrão de 43.455041 m²\n",
    "    - O desvio padrão indica que há uma variação de valor de área de mais de 50% do valor da média em relação a média\n",
    "- O valor mínimo de área é de 11 m² e o valor máximo de área é de 199 m² \n",
    "- Quando os dados são ordenas em ordem crescente, podemos usar quartis para dividir os dados\n",
    "    - Primeiro quartil é um número que deixa 25% das observações abaixo dele e 75% acima\n",
    "        - Nesse caso, 1/4 das áreas é menor ou igual a 50m² \n",
    "    - O segundo quartil, ou mediana, é o valor que divide os dados em partes iguais\n",
    "        - Assim 1/2 dos dados é menor ou igual a 71m² e 1/2 das áreas é maior que 71m²\n",
    "    - O terceiro quartil é o valor em que 3/4 das áreas é menor ou igual a ela e 1/4 é maior \n",
    "        - No exemplo, 110m² corresponde ao maior valor entre 3/4 dos valores ordenados de forma crescente. E 1/4, sendo esses os maiores valores que são maiores que 110m² chegando até 199m², que é o maior valor no dataset em relação a área.\n",
    "- Podemos observar também, no atributo `Name` que o nome da coluna é **area** e o tipo dos valores da coluna é **float64**"
   ]
  },
  {
   "cell_type": "markdown",
   "metadata": {},
   "source": [
    "### Visualizando a distribuição de área por um histograma"
   ]
  },
  {
   "cell_type": "markdown",
   "metadata": {},
   "source": [
    "Histograma\n",
    "- Características\n",
    "    - Similar a um gráfico de barras\n",
    "        - Em x ficam intervalos de valores com os dados quantitativos explorados \n",
    "        - Em y é representado a quantidade de dados dentro do intervalo em y\n",
    "- Objetivo\n",
    "    - Obsevar a frequência dos dados quantitativos em intervalos de valores\n",
    "    - Dá uma noção de como os valores do atributo estão distribuidos"
   ]
  },
  {
   "cell_type": "code",
   "execution_count": 17,
   "metadata": {},
   "outputs": [
    {
     "data": {
      "image/png": "[encoded data removed]",
      "text/plain": [
       "<Figure size 720x360 with 1 Axes>"
      ]
     },
     "metadata": {},
     "output_type": "display_data"
    }
   ],
   "source": [
    "plt.figure(figsize=(10,5))\n",
    "plt.style.use('seaborn-darkgrid')\n",
    "plt.title('Distribuição de área dos imóveis', fontweight='bold', fontsize = 15)\n",
    "plt.ylabel('Frequência de observação', fontweight='bold', fontsize=13)\n",
    "plt.xlabel('Intevalo de área(m²)', fontweight='bold', fontsize=13)\n",
    "plt.hist(df['area'])\n",
    "plt.show()\n"
   ]
  },
  {
   "cell_type": "markdown",
   "metadata": {},
   "source": [
    "**Análise do gráfico**\n",
    "\n",
    "Podemos observar que o intervalo de área é mapeado através da largura das barras no eixo, e a frequência de valores em cada intervalo é mapeado pela altura das barras representadas pelo eixo y.\n",
    "\n",
    "Observe que a distribuição dos dados se torna bem mais visível agora, isto é, podemos observar como os valores de área estão distribuidos entre si.\n",
    "\n",
    "Na primeira barra temos um intervalo 0 a 25 m² com cerca de 400 valores nesse intervalo. Observe que dentro daquele intervalo ( que também não é muito bem definido no gráfico, mas podemos estimar entre 0 e 25m²) não é possível saber a quantidade exata de cada valor de área dentro dele, só podemos dizer que dentro desse intervalor há aproximadamente 400 valores. \n",
    "\n",
    "Em uma análise geral, observa-se que há poucas áreas com menos de 25m². Que a grande quantidade de área se concentra entre 50m² e 75m² e que após isso vai decaindo em quantidade conforme vai crescendo a área. Também é possível analisar que os terrenos mais raros estão entre 175 e 200m²."
   ]
  },
  {
   "cell_type": "markdown",
   "metadata": {},
   "source": [
    "#### Como definir o número de intervalor(bins) do histograma"
   ]
  },
  {
   "cell_type": "markdown",
   "metadata": {},
   "source": [
    "Quando usamos apenas o `.hist(df)` e não definimos o número de intervalo, o método define por padrão um valor que ele considera ideal.\n",
    "\n",
    "Podemos definir a quantidade de intervalos acrescentando ao método o atributo e o valor para ele: `.hist(df, bins=numero_de_bins)`.\n",
    "\n",
    "Observações:\n",
    "- O número de bins diz o quão preciso é análise dos dados\n",
    "    - Se for com poucos intervalos, a precisão será menor e a análise será mais generalizada\n",
    "        - Hávera muitos valores nos pequenos intervalos\n",
    "    - Se for com muitos, a precisão será maior, mas terá mais ruido e se tornara mais difícil fazer uma análise dos padrões\n",
    "        - Poderá poucos valores nos muitos intervalos\n",
    "- O número de bins pode ser definido por tentativa e erro, ou por fórmulas estatísticas"
   ]
  },
  {
   "cell_type": "code",
   "execution_count": 18,
   "metadata": {},
   "outputs": [
    {
     "data": {
      "image/png": "[encoded data removed]",
      "text/plain": [
       "<Figure size 720x360 with 1 Axes>"
      ]
     },
     "metadata": {},
     "output_type": "display_data"
    }
   ],
   "source": [
    "# Vamos definir 25 bins(25 intervalos)\n",
    "plt.figure(figsize=(10,5))\n",
    "plt.style.use('seaborn-darkgrid')\n",
    "plt.title('Distribuição de área dos imóveis', fontweight='bold', fontsize = 15)\n",
    "plt.ylabel('Frequência de observação', fontweight='bold', fontsize=13)\n",
    "plt.xlabel('Intevalo de área(m²)', fontweight='bold', fontsize=13)\n",
    "plt.hist(df['area'], bins=25)\n",
    "plt.show()\n"
   ]
  },
  {
   "cell_type": "markdown",
   "metadata": {},
   "source": [
    "## Gráficos de densidade com seaborn"
   ]
  },
  {
   "cell_type": "markdown",
   "metadata": {},
   "source": [
    "O gráfico de densidade tem a mesma função de um histograma, representar a distribuição dos dados, mas faz isso através de um curva contínua ao invés de bins\n",
    "\n",
    "A altura da curva não faz referência a contagem dos dados nos intervalos e sim a uma estimativa da probabilidade de um daqueles dados possuir o valor em x daquela estimativa. \n",
    "\n",
    "Faz um interpretação probabilistica dos dados. Nos dá uma visualização mais limpa que não depende dos bins\n",
    "\n",
    "**Palavras chaves**\n",
    "- Curva de probabilidade de ocorrência\n",
    "    - Curva que indica a chance daquele intervalo de dados ocorrer\n",
    "    - Probabilidade vai de 0 a 1 (0% a 100%)\n",
    "    - É possível observar as regiões mais prováveis de ocorrência do evento\n",
    "    - A curva é estimada pelo método **Estimativa de Densidade de Kernel (KDE)**\n",
    "    \n",
    "    \n"
   ]
  },
  {
   "cell_type": "code",
   "execution_count": 23,
   "metadata": {},
   "outputs": [
    {
     "data": {
      "image/png": "[encoded data removed]",
      "text/plain": [
       "<Figure size 720x360 with 1 Axes>"
      ]
     },
     "metadata": {},
     "output_type": "display_data"
    }
   ],
   "source": [
    "plt.figure(figsize=(10,5))\n",
    "plt.title('Distribuição de áreas de imóveis')\n",
    "plt.xlabel('Intevalor de área(m²)')\n",
    "plt.ylabel('Chance de ocorrência')\n",
    "sns.distplot(df['area'], bins=25)\n",
    "plt.show()"
   ]
  },
  {
   "cell_type": "markdown",
   "metadata": {},
   "source": [
    "**Mostrando apenas a curva**"
   ]
  },
  {
   "cell_type": "code",
   "execution_count": 29,
   "metadata": {},
   "outputs": [
    {
     "data": {
      "image/png": "[encoded data removed]",
      "text/plain": [
       "<Figure size 720x360 with 1 Axes>"
      ]
     },
     "metadata": {},
     "output_type": "display_data"
    }
   ],
   "source": [
    "plt.figure(figsize=(10,5))\n",
    "plt.title('Distribuição de áreas de imóveis')\n",
    "plt.xlabel('Área(m²)')\n",
    "plt.ylabel('Chance de ocorrência')\n",
    "sns.kdeplot(df['area'], shade=True)\n",
    "plt.show()"
   ]
  },
  {
   "cell_type": "markdown",
   "metadata": {},
   "source": [
    "**O atributo `shade` nos mostra uma sombra sob a curva. Quando definimos como `False`, é o padrão, apenas a curva fica visível**"
   ]
  },
  {
   "cell_type": "code",
   "execution_count": 30,
   "metadata": {},
   "outputs": [
    {
     "data": {
      "image/png": "[encoded data removed]",
      "text/plain": [
       "<Figure size 720x360 with 1 Axes>"
      ]
     },
     "metadata": {},
     "output_type": "display_data"
    }
   ],
   "source": [
    "plt.figure(figsize=(10,5))\n",
    "plt.title('Distribuição de áreas de imóveis')\n",
    "plt.xlabel('Área(m²)')\n",
    "plt.ylabel('Chance de ocorrência')\n",
    "sns.kdeplot(df['area'])\n",
    "plt.show()"
   ]
  }
 ],
 "metadata": {
  "kernelspec": {
   "display_name": "Python 3",
   "language": "python",
   "name": "python3"
  },
  "language_info": {
   "codemirror_mode": {
    "name": "ipython",
    "version": 3
   },
   "file_extension": ".py",
   "mimetype": "text/x-python",
   "name": "python",
   "nbconvert_exporter": "python",
   "pygments_lexer": "ipython3",
   "version": "3.8.3"
  }
 },
 "nbformat": 4,
 "nbformat_minor": 4
}
